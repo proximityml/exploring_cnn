{
 "cells": [
  {
   "cell_type": "markdown",
   "metadata": {},
   "source": [
    "## 1. About the task and dataset Consideration:"
   ]
  },
  {
   "cell_type": "markdown",
   "metadata": {},
   "source": [
    "### 1.1. Dataset Creation:"
   ]
  },
  {
   "cell_type": "code",
   "execution_count": 5,
   "metadata": {
    "collapsed": true
   },
   "outputs": [],
   "source": [
    "import os,shutil\n",
    "original_dataset_dir_1 = 'E:\\\\python_workspace\\\\test_jupy\\\\data_1\\\\dogscats\\\\train\\\\cats'\n",
    "original_dataset_dir_2 = 'E:\\\\python_workspace\\\\test_jupy\\\\data_1\\\\dogscats\\\\train\\\\dogs'\n",
    "base_dir = 'E:\\\\Anirban_Research\\\\Experimentation_beg\\\\cats_n_dogs_small'\n",
    "\n",
    "train_dir = 'E:\\\\Anirban_Research\\\\Experimentation_beg\\\\cats_n_dogs_small\\\\train'\n",
    "validation_dir = 'E:\\\\Anirban_Research\\\\Experimentation_beg\\\\cats_n_dogs_small\\\\validation'\n",
    "test_dir = 'E:\\\\Anirban_Research\\\\Experimentation_beg\\\\cats_n_dogs_small\\\\test'\n",
    "\n",
    "train_cats_dir = 'E:\\\\Anirban_Research\\\\Experimentation_beg\\\\cats_n_dogs_small\\\\train\\\\cats'\n",
    "train_dogs_dir = 'E:\\\\Anirban_Research\\\\Experimentation_beg\\\\cats_n_dogs_small\\\\train\\\\dogs'\n",
    "validation_cats_dir = 'E:\\\\Anirban_Research\\\\Experimentation_beg\\\\cats_n_dogs_small\\\\validation\\\\cats'\n",
    "validation_dogs_dir = 'E:\\\\Anirban_Research\\\\Experimentation_beg\\\\cats_n_dogs_small\\\\validation\\\\dogs'\n",
    "test_cats_dir = 'E:\\\\Anirban_Research\\\\Experimentation_beg\\\\cats_n_dogs_small\\\\test\\\\cats'\n",
    "test_dogs_dir = 'E:\\\\Anirban_Research\\\\Experimentation_beg\\\\cats_n_dogs_small\\\\test\\\\dogs'\n",
    "\n",
    "\n",
    "\n"
   ]
  },
  {
   "cell_type": "markdown",
   "metadata": {},
   "source": [
    "### 1.2. Dataset size:\n"
   ]
  },
  {
   "cell_type": "code",
   "execution_count": 2,
   "metadata": {},
   "outputs": [
    {
     "name": "stdout",
     "output_type": "stream",
     "text": [
      "Total Training Cat Images:  1000\n",
      "Total Traiing Dog Images:  1000\n",
      "Total Validation Cat Images:  500\n",
      "Total Validation Dog Images:  500\n",
      "Total Test Cat Images:  500\n",
      "Total Test Dog Images:  500\n"
     ]
    }
   ],
   "source": [
    "print('Total Training Cat Images: ',len(os.listdir(train_cats_dir)))\n",
    "print('Total Traiing Dog Images: ',len(os.listdir(train_dogs_dir)))\n",
    "print('Total Validation Cat Images: ',len(os.listdir(validation_cats_dir)))\n",
    "print('Total Validation Dog Images: ',len(os.listdir(validation_dogs_dir)))\n",
    "print('Total Test Cat Images: ',len(os.listdir(test_cats_dir)))\n",
    "print('Total Test Dog Images: ',len(os.listdir(test_dogs_dir)))\n"
   ]
  },
  {
   "cell_type": "markdown",
   "metadata": {},
   "source": [
    "### 1.3. Initial Dependencies:"
   ]
  },
  {
   "cell_type": "code",
   "execution_count": 2,
   "metadata": {},
   "outputs": [
    {
     "name": "stderr",
     "output_type": "stream",
     "text": [
      "C:\\Users\\home\\Anaconda3\\lib\\site-packages\\h5py\\__init__.py:34: FutureWarning: Conversion of the second argument of issubdtype from `float` to `np.floating` is deprecated. In future, it will be treated as `np.float64 == np.dtype(float).type`.\n",
      "  from ._conv import register_converters as _register_converters\n",
      "Using TensorFlow backend.\n"
     ]
    }
   ],
   "source": [
    "import numpy as np\n",
    "import matplotlib.pyplot as plt\n",
    "import keras\n",
    "from keras import models\n",
    "from keras import layers\n",
    "from keras import optimizers\n",
    "from keras.preprocessing.image import ImageDataGenerator"
   ]
  },
  {
   "cell_type": "markdown",
   "metadata": {},
   "source": [
    "## 2. Building the Model:"
   ]
  },
  {
   "cell_type": "code",
   "execution_count": 7,
   "metadata": {},
   "outputs": [
    {
     "name": "stdout",
     "output_type": "stream",
     "text": [
      "_________________________________________________________________\n",
      "Layer (type)                 Output Shape              Param #   \n",
      "=================================================================\n",
      "conv2d_5 (Conv2D)            (None, 148, 148, 32)      896       \n",
      "_________________________________________________________________\n",
      "max_pooling2d_5 (MaxPooling2 (None, 74, 74, 32)        0         \n",
      "_________________________________________________________________\n",
      "conv2d_6 (Conv2D)            (None, 72, 72, 64)        18496     \n",
      "_________________________________________________________________\n",
      "max_pooling2d_6 (MaxPooling2 (None, 36, 36, 64)        0         \n",
      "_________________________________________________________________\n",
      "conv2d_7 (Conv2D)            (None, 34, 34, 128)       73856     \n",
      "_________________________________________________________________\n",
      "max_pooling2d_7 (MaxPooling2 (None, 17, 17, 128)       0         \n",
      "_________________________________________________________________\n",
      "conv2d_8 (Conv2D)            (None, 15, 15, 128)       147584    \n",
      "_________________________________________________________________\n",
      "max_pooling2d_8 (MaxPooling2 (None, 7, 7, 128)         0         \n",
      "_________________________________________________________________\n",
      "flatten_2 (Flatten)          (None, 6272)              0         \n",
      "_________________________________________________________________\n",
      "dense_3 (Dense)              (None, 512)               3211776   \n",
      "_________________________________________________________________\n",
      "dense_4 (Dense)              (None, 1)                 513       \n",
      "=================================================================\n",
      "Total params: 3,453,121\n",
      "Trainable params: 3,453,121\n",
      "Non-trainable params: 0\n",
      "_________________________________________________________________\n"
     ]
    }
   ],
   "source": [
    "model = models.Sequential()\n",
    "model.add(layers.Conv2D(32,(3,3),activation='relu',input_shape=(150,150,3)))\n",
    "model.add(layers.MaxPooling2D((2,2)))\n",
    "model.add(layers.Conv2D(64,(3,3),activation='relu'))\n",
    "model.add(layers.MaxPooling2D((2,2)))\n",
    "model.add(layers.Conv2D(128,(3,3),activation='relu'))\n",
    "model.add(layers.MaxPooling2D((2,2)))\n",
    "model.add(layers.Conv2D(128,(3,3),activation='relu'))\n",
    "model.add(layers.MaxPooling2D((2,2)))\n",
    "model.add(layers.Flatten())\n",
    "model.add(layers.Dense(512,activation='relu'))\n",
    "model.add(layers.Dense(1,activation='sigmoid'))\n",
    "\n",
    "model.summary()\n"
   ]
  },
  {
   "cell_type": "markdown",
   "metadata": {},
   "source": [
    "## 3. Configuring the model for training:"
   ]
  },
  {
   "cell_type": "code",
   "execution_count": 8,
   "metadata": {
    "collapsed": true
   },
   "outputs": [],
   "source": [
    "callbacks_list = [keras.callbacks.EarlyStopping(monitor='acc',patience=1),keras.callbacks.ModelCheckpoint(filepath='my_model.h5',monitor='val_loss',save_best_only=True)]\n",
    "model.compile(loss='binary_crossentropy',optimizer=optimizers.RMSprop(lr=1e-4),metrics=['acc'])"
   ]
  },
  {
   "cell_type": "markdown",
   "metadata": {},
   "source": [
    "## 4. Data Pre-Processing:"
   ]
  },
  {
   "cell_type": "markdown",
   "metadata": {},
   "source": [
    "### 4.1. Using ImageDataGenerator to read images from directories:"
   ]
  },
  {
   "cell_type": "code",
   "execution_count": 10,
   "metadata": {},
   "outputs": [
    {
     "name": "stdout",
     "output_type": "stream",
     "text": [
      "Found 2000 images belonging to 2 classes.\n",
      "Found 1000 images belonging to 2 classes.\n"
     ]
    }
   ],
   "source": [
    "train_datagen = ImageDataGenerator(rescale=1./255)\n",
    "test_datagen = ImageDataGenerator(rescale=1./255)\n",
    "\n",
    "train_generator = train_datagen.flow_from_directory(train_dir,target_size=(150,150),batch_size = 20,class_mode='binary')\n",
    "validation_generator = test_datagen.flow_from_directory(validation_dir,target_size=(150,150),batch_size=20,class_mode='binary')\n"
   ]
  },
  {
   "cell_type": "markdown",
   "metadata": {},
   "source": [
    "## 5. Fitting the model using Batch Generator:\n"
   ]
  },
  {
   "cell_type": "code",
   "execution_count": 11,
   "metadata": {},
   "outputs": [
    {
     "name": "stdout",
     "output_type": "stream",
     "text": [
      "Epoch 1/30\n",
      "100/100 [==============================] - 256s 3s/step - loss: 0.6932 - acc: 0.5345 - val_loss: 0.6764 - val_acc: 0.5570\n",
      "Epoch 2/30\n",
      "100/100 [==============================] - 251s 3s/step - loss: 0.6609 - acc: 0.6020 - val_loss: 0.6595 - val_acc: 0.6060\n",
      "Epoch 3/30\n",
      "100/100 [==============================] - 258s 3s/step - loss: 0.6205 - acc: 0.6560 - val_loss: 0.6553 - val_acc: 0.6140\n",
      "Epoch 4/30\n",
      "100/100 [==============================] - 250s 2s/step - loss: 0.5695 - acc: 0.7095 - val_loss: 0.6830 - val_acc: 0.5930\n",
      "Epoch 5/30\n",
      "100/100 [==============================] - 251s 3s/step - loss: 0.5467 - acc: 0.7280 - val_loss: 0.6578 - val_acc: 0.6520\n",
      "Epoch 6/30\n",
      "100/100 [==============================] - 250s 3s/step - loss: 0.5151 - acc: 0.7505 - val_loss: 0.6071 - val_acc: 0.6750\n",
      "Epoch 7/30\n",
      "100/100 [==============================] - 250s 2s/step - loss: 0.4941 - acc: 0.7540 - val_loss: 0.5771 - val_acc: 0.6900\n",
      "Epoch 8/30\n",
      "100/100 [==============================] - 250s 3s/step - loss: 0.4605 - acc: 0.7960 - val_loss: 0.5588 - val_acc: 0.7150\n",
      "Epoch 9/30\n",
      "100/100 [==============================] - 250s 3s/step - loss: 0.4365 - acc: 0.7975 - val_loss: 0.5977 - val_acc: 0.7100\n",
      "Epoch 10/30\n",
      "100/100 [==============================] - 251s 3s/step - loss: 0.4148 - acc: 0.8110 - val_loss: 0.5643 - val_acc: 0.7140\n",
      "Epoch 11/30\n",
      "100/100 [==============================] - 252s 3s/step - loss: 0.3833 - acc: 0.8325 - val_loss: 0.5702 - val_acc: 0.7140\n",
      "Epoch 12/30\n",
      "100/100 [==============================] - 250s 2s/step - loss: 0.3587 - acc: 0.8505 - val_loss: 0.5761 - val_acc: 0.7140\n",
      "Epoch 13/30\n",
      "100/100 [==============================] - 250s 3s/step - loss: 0.3244 - acc: 0.8600 - val_loss: 0.5566 - val_acc: 0.7310\n",
      "Epoch 14/30\n",
      "100/100 [==============================] - 250s 3s/step - loss: 0.3049 - acc: 0.8730 - val_loss: 0.6074 - val_acc: 0.7280\n",
      "Epoch 15/30\n",
      "100/100 [==============================] - 251s 3s/step - loss: 0.2798 - acc: 0.8825 - val_loss: 0.6418 - val_acc: 0.7070\n",
      "Epoch 16/30\n",
      "100/100 [==============================] - 251s 3s/step - loss: 0.2579 - acc: 0.8965 - val_loss: 0.6580 - val_acc: 0.7190\n",
      "Epoch 17/30\n",
      "100/100 [==============================] - 251s 3s/step - loss: 0.2305 - acc: 0.9135 - val_loss: 0.7215 - val_acc: 0.7100\n",
      "Epoch 18/30\n",
      "100/100 [==============================] - 251s 3s/step - loss: 0.2150 - acc: 0.9120 - val_loss: 0.6602 - val_acc: 0.7290\n"
     ]
    }
   ],
   "source": [
    "history = model.fit_generator(train_generator,steps_per_epoch=100,epochs=30,callbacks=callbacks_list,validation_data=validation_generator,validation_steps=50)\n"
   ]
  },
  {
   "cell_type": "markdown",
   "metadata": {},
   "source": [
    "## 6. Saving the model:"
   ]
  },
  {
   "cell_type": "code",
   "execution_count": 12,
   "metadata": {
    "collapsed": true
   },
   "outputs": [],
   "source": [
    "model.save('cats_n_dogs_small_3.h5')"
   ]
  },
  {
   "cell_type": "markdown",
   "metadata": {},
   "source": [
    "## 7. Plotting model's loss and accuracy on training and validation set:"
   ]
  },
  {
   "cell_type": "code",
   "execution_count": 13,
   "metadata": {},
   "outputs": [
    {
     "data": {
      "image/png": "[encoded data removed]",
      "text/plain": [
       "<matplotlib.figure.Figure at 0x1426fc18>"
      ]
     },
     "metadata": {},
     "output_type": "display_data"
    },
    {
     "data": {
      "image/png": "[encoded data removed]",
      "text/plain": [
       "<matplotlib.figure.Figure at 0x14fa33c8>"
      ]
     },
     "metadata": {},
     "output_type": "display_data"
    }
   ],
   "source": [
    "acc = history.history['acc']\n",
    "val_acc = history.history['val_acc']\n",
    "loss = history.history['loss']\n",
    "val_loss = history.history['val_loss']\n",
    "\n",
    "epochs = range(1,len(acc) + 1)\n",
    "\n",
    "plt.plot(epochs,acc,'bo',label='Training Accuracy.')\n",
    "plt.plot(epochs,val_acc,'b',label='Validation Accuracy.')\n",
    "plt.title('Training and Validation Accuracy.')\n",
    "plt.legend()\n",
    "\n",
    "plt.figure()\n",
    "\n",
    "plt.plot(epochs,loss,'bo',label='Training Loss.')\n",
    "plt.plot(epochs,val_loss,'b',label='Validation Loss.')\n",
    "plt.title('Training and Validation Loss.')\n",
    "plt.legend()\n",
    "\n",
    "plt.show()\n"
   ]
  },
  {
   "cell_type": "markdown",
   "metadata": {},
   "source": [
    "## 8. Re-Building Model using Data-Augmentation Drop-Out technique for mitigating Over-fitting:"
   ]
  },
  {
   "cell_type": "code",
   "execution_count": 3,
   "metadata": {},
   "outputs": [
    {
     "name": "stdout",
     "output_type": "stream",
     "text": [
      "_________________________________________________________________\n",
      "Layer (type)                 Output Shape              Param #   \n",
      "=================================================================\n",
      "conv2d_1 (Conv2D)            (None, 148, 148, 32)      896       \n",
      "_________________________________________________________________\n",
      "max_pooling2d_1 (MaxPooling2 (None, 74, 74, 32)        0         \n",
      "_________________________________________________________________\n",
      "conv2d_2 (Conv2D)            (None, 72, 72, 64)        18496     \n",
      "_________________________________________________________________\n",
      "max_pooling2d_2 (MaxPooling2 (None, 36, 36, 64)        0         \n",
      "_________________________________________________________________\n",
      "conv2d_3 (Conv2D)            (None, 34, 34, 128)       73856     \n",
      "_________________________________________________________________\n",
      "max_pooling2d_3 (MaxPooling2 (None, 17, 17, 128)       0         \n",
      "_________________________________________________________________\n",
      "conv2d_4 (Conv2D)            (None, 15, 15, 128)       147584    \n",
      "_________________________________________________________________\n",
      "max_pooling2d_4 (MaxPooling2 (None, 7, 7, 128)         0         \n",
      "_________________________________________________________________\n",
      "flatten_1 (Flatten)          (None, 6272)              0         \n",
      "_________________________________________________________________\n",
      "dropout_1 (Dropout)          (None, 6272)              0         \n",
      "_________________________________________________________________\n",
      "dense_1 (Dense)              (None, 512)               3211776   \n",
      "_________________________________________________________________\n",
      "dense_2 (Dense)              (None, 1)                 513       \n",
      "=================================================================\n",
      "Total params: 3,453,121\n",
      "Trainable params: 3,453,121\n",
      "Non-trainable params: 0\n",
      "_________________________________________________________________\n"
     ]
    }
   ],
   "source": [
    "model_1 = models.Sequential()\n",
    "model_1.add(layers.Conv2D(32,(3,3),activation='relu',input_shape=(150,150,3)))\n",
    "model_1.add(layers.MaxPooling2D((2,2)))\n",
    "model_1.add(layers.Conv2D(64,(3,3),activation='relu'))\n",
    "model_1.add(layers.MaxPooling2D((2,2)))\n",
    "model_1.add(layers.Conv2D(128,(3,3),activation='relu'))\n",
    "model_1.add(layers.MaxPooling2D((2,2)))\n",
    "model_1.add(layers.Conv2D(128,(3,3),activation='relu'))\n",
    "model_1.add(layers.MaxPooling2D((2,2)))\n",
    "model_1.add(layers.Flatten())\n",
    "model_1.add(layers.Dropout(0.5))\n",
    "model_1.add(layers.Dense(512,activation='relu'))\n",
    "model_1.add(layers.Dense(1,activation='sigmoid'))\n",
    "\n",
    "model_1.summary()\n",
    "\n",
    "model_1.compile(loss='binary_crossentropy',optimizer = optimizers.RMSprop(lr=1e-4),metrics = ['acc'])\n"
   ]
  },
  {
   "cell_type": "markdown",
   "metadata": {},
   "source": [
    "## 9. Training the model using data-augmentation generator:"
   ]
  },
  {
   "cell_type": "code",
   "execution_count": 7,
   "metadata": {},
   "outputs": [
    {
     "name": "stdout",
     "output_type": "stream",
     "text": [
      "Found 2000 images belonging to 2 classes.\n",
      "Found 1000 images belonging to 2 classes.\n",
      "Epoch 1/50\n",
      "100/100 [==============================] - 403s 4s/step - loss: 0.6937 - acc: 0.5206 - val_loss: 0.6778 - val_acc: 0.5730\n",
      "Epoch 2/50\n",
      "100/100 [==============================] - 401s 4s/step - loss: 0.6814 - acc: 0.5681 - val_loss: 0.6712 - val_acc: 0.5818\n",
      "Epoch 3/50\n",
      "100/100 [==============================] - 400s 4s/step - loss: 0.6669 - acc: 0.5866 - val_loss: 0.6405 - val_acc: 0.6402\n",
      "Epoch 4/50\n",
      "100/100 [==============================] - 400s 4s/step - loss: 0.6599 - acc: 0.5972 - val_loss: 0.6469 - val_acc: 0.5876\n",
      "Epoch 5/50\n",
      "100/100 [==============================] - 399s 4s/step - loss: 0.6314 - acc: 0.6278 - val_loss: 0.5973 - val_acc: 0.6574\n",
      "Epoch 6/50\n",
      "100/100 [==============================] - 400s 4s/step - loss: 0.6264 - acc: 0.6450 - val_loss: 0.5826 - val_acc: 0.6901\n",
      "Epoch 7/50\n",
      "100/100 [==============================] - 399s 4s/step - loss: 0.6065 - acc: 0.6706 - val_loss: 0.5743 - val_acc: 0.6942\n",
      "Epoch 8/50\n",
      "100/100 [==============================] - 409s 4s/step - loss: 0.6023 - acc: 0.6675 - val_loss: 0.5665 - val_acc: 0.7062\n"
     ]
    }
   ],
   "source": [
    "train_datagen_1 = ImageDataGenerator(rescale=1./255,rotation_range=40,width_shift_range=0.2,height_shift_range=0.2,shear_range=0.2,zoom_range=0.2,horizontal_flip=True)\n",
    "test_datagen_1 = ImageDataGenerator(rescale=1./255)\n",
    "train_generator_1 = train_datagen_1.flow_from_directory(train_dir,target_size=(150,150),batch_size=32,class_mode = 'binary')\n",
    "validation_generator_1 = test_datagen_1.flow_from_directory(validation_dir,target_size=(150,150),batch_size=32,class_mode='binary')\n",
    "\n",
    "callbacks_list_ = [keras.callbacks.EarlyStopping(monitor='acc',patience=1),keras.callbacks.ModelCheckpoint(filepath='my_model_.h5',monitor='val_loss',save_best_only=True)]\n",
    "\n",
    "history_1 = model_1.fit_generator(train_generator_1,steps_per_epoch=100,epochs=50,callbacks=callbacks_list_,validation_data=validation_generator_1,validation_steps=50)\n"
   ]
  },
  {
   "cell_type": "code",
   "execution_count": 9,
   "metadata": {},
   "outputs": [
    {
     "data": {
      "image/png": "[encoded data removed]",
      "text/plain": [
       "<matplotlib.figure.Figure at 0x14903a90>"
      ]
     },
     "metadata": {},
     "output_type": "display_data"
    },
    {
     "data": {
      "image/png": "[encoded data removed]",
      "text/plain": [
       "<matplotlib.figure.Figure at 0x4945908>"
      ]
     },
     "metadata": {},
     "output_type": "display_data"
    }
   ],
   "source": [
    "acc_ = history_1.history['acc']\n",
    "val_acc_ = history_1.history['val_acc']\n",
    "loss_ = history_1.history['loss']\n",
    "val_loss_ = history_1.history['val_loss']\n",
    "\n",
    "epochs = range(1,len(acc_) + 1)\n",
    "\n",
    "plt.plot(epochs,acc_,'bo',label='Training Accuracy.')\n",
    "plt.plot(epochs,val_acc_,'b',label='Validation Accuracy.')\n",
    "plt.title('Training and Validation Accuracy.')\n",
    "plt.legend()\n",
    "\n",
    "plt.figure()\n",
    "\n",
    "plt.plot(epochs,loss_,'bo',label='Training Loss.')\n",
    "plt.plot(epochs,val_loss_,'b',label='Validation Loss.')\n",
    "plt.title('Training and Validation Loss.')\n",
    "plt.legend()\n",
    "\n",
    "plt.show()"
   ]
  },
  {
   "cell_type": "code",
   "execution_count": null,
   "metadata": {
    "collapsed": true
   },
   "outputs": [],
   "source": []
  }
 ],
 "metadata": {
  "kernelspec": {
   "display_name": "Python 3",
   "language": "python",
   "name": "python3"
  },
  "language_info": {
   "codemirror_mode": {
    "name": "ipython",
    "version": 3
   },
   "file_extension": ".py",
   "mimetype": "text/x-python",
   "name": "python",
   "nbconvert_exporter": "python",
   "pygments_lexer": "ipython3",
   "version": "3.6.1"
  }
 },
 "nbformat": 4,
 "nbformat_minor": 2
}

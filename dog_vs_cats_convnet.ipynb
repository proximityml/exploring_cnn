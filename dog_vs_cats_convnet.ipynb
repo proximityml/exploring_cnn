{
 "cells": [
  {
   "cell_type": "markdown",
   "metadata": {},
   "source": [
    "## 1. About the task and dataset Consideration:"
   ]
  },
  {
   "cell_type": "markdown",
   "metadata": {},
   "source": [
    "### 1.1. Dataset Creation:"
   ]
  },
  {
   "cell_type": "code",
   "execution_count": 1,
   "metadata": {
    "collapsed": true
   },
   "outputs": [],
   "source": [
    "\n",
    "\n",
    "train_dir = '/my_data/cats_n_dogs_small/train'\n",
    "validation_dir = '/my_data/cats_n_dogs_small/validation'\n",
    "test_dir = '/my_data/cats_n_dogs_small/test'\n",
    "\n",
    "train_cats_dir = '/my_data/cats_n_dogs_small/train/cats'\n",
    "\n",
    "train_dogs_dir = '/my_data/cats_n_dogs_small/train/dogs'\n",
    "validation_cats_dir = '/my_data/cats_n_dogs_small/validation/cats'\n",
    "validation_dogs_dir = '/my_data/cats_n_dogs_small/validation/dogs'\n",
    "\n",
    "test_cats_dir = '/my_data/cats_n_dogs_small/test/cats'\n",
    "test_dogs_dir = '/my_data/cats_n_dogs_small/test/dogs'\n",
    "\n",
    "\n",
    "    \n",
    "\n"
   ]
  },
  {
   "cell_type": "markdown",
   "metadata": {},
   "source": [
    "### 1.3. Initial Dependencies:"
   ]
  },
  {
   "cell_type": "code",
   "execution_count": 2,
   "metadata": {},
   "outputs": [
    {
     "name": "stderr",
     "output_type": "stream",
     "text": [
      "Using TensorFlow backend.\n"
     ]
    }
   ],
   "source": [
    "import numpy as np\n",
    "import matplotlib.pyplot as plt\n",
    "from keras import models\n",
    "from keras import layers\n",
    "from keras import optimizers\n",
    "from keras.preprocessing.image import ImageDataGenerator"
   ]
  },
  {
   "cell_type": "markdown",
   "metadata": {},
   "source": [
    "## 2. Building the Model:"
   ]
  },
  {
   "cell_type": "code",
   "execution_count": 3,
   "metadata": {},
   "outputs": [
    {
     "name": "stdout",
     "output_type": "stream",
     "text": [
      "_________________________________________________________________\n",
      "Layer (type)                 Output Shape              Param #   \n",
      "=================================================================\n",
      "conv2d_1 (Conv2D)            (None, 148, 148, 32)      896       \n",
      "_________________________________________________________________\n",
      "max_pooling2d_1 (MaxPooling2 (None, 74, 74, 32)        0         \n",
      "_________________________________________________________________\n",
      "conv2d_2 (Conv2D)            (None, 72, 72, 64)        18496     \n",
      "_________________________________________________________________\n",
      "max_pooling2d_2 (MaxPooling2 (None, 36, 36, 64)        0         \n",
      "_________________________________________________________________\n",
      "conv2d_3 (Conv2D)            (None, 34, 34, 128)       73856     \n",
      "_________________________________________________________________\n",
      "max_pooling2d_3 (MaxPooling2 (None, 17, 17, 128)       0         \n",
      "_________________________________________________________________\n",
      "conv2d_4 (Conv2D)            (None, 15, 15, 128)       147584    \n",
      "_________________________________________________________________\n",
      "max_pooling2d_4 (MaxPooling2 (None, 7, 7, 128)         0         \n",
      "_________________________________________________________________\n",
      "flatten_1 (Flatten)          (None, 6272)              0         \n",
      "_________________________________________________________________\n",
      "dense_1 (Dense)              (None, 512)               3211776   \n",
      "_________________________________________________________________\n",
      "dense_2 (Dense)              (None, 1)                 513       \n",
      "=================================================================\n",
      "Total params: 3,453,121\n",
      "Trainable params: 3,453,121\n",
      "Non-trainable params: 0\n",
      "_________________________________________________________________\n"
     ]
    }
   ],
   "source": [
    "model = models.Sequential()\n",
    "model.add(layers.Conv2D(32,(3,3),activation='relu',input_shape=(150,150,3)))\n",
    "model.add(layers.MaxPooling2D((2,2)))\n",
    "model.add(layers.Conv2D(64,(3,3),activation='relu'))\n",
    "model.add(layers.MaxPooling2D((2,2)))\n",
    "model.add(layers.Conv2D(128,(3,3),activation='relu'))\n",
    "model.add(layers.MaxPooling2D((2,2)))\n",
    "model.add(layers.Conv2D(128,(3,3),activation='relu'))\n",
    "model.add(layers.MaxPooling2D((2,2)))\n",
    "model.add(layers.Flatten())\n",
    "model.add(layers.Dense(512,activation='relu'))\n",
    "model.add(layers.Dense(1,activation='sigmoid'))\n",
    "\n",
    "model.summary()\n"
   ]
  },
  {
   "cell_type": "markdown",
   "metadata": {},
   "source": [
    "## 3. Configuring the model for training:"
   ]
  },
  {
   "cell_type": "code",
   "execution_count": 4,
   "metadata": {
    "collapsed": true
   },
   "outputs": [],
   "source": [
    "model.compile(loss='binary_crossentropy',optimizer=optimizers.RMSprop(lr=1e-4),metrics=['acc'])"
   ]
  },
  {
   "cell_type": "markdown",
   "metadata": {},
   "source": [
    "## 4. Data Pre-Processing:"
   ]
  },
  {
   "cell_type": "markdown",
   "metadata": {},
   "source": [
    "### 4.1. Using ImageDataGenerator to read images from directories:"
   ]
  },
  {
   "cell_type": "code",
   "execution_count": 5,
   "metadata": {},
   "outputs": [
    {
     "name": "stdout",
     "output_type": "stream",
     "text": [
      "Found 2000 images belonging to 2 classes.\n",
      "Found 1000 images belonging to 2 classes.\n"
     ]
    }
   ],
   "source": [
    "train_datagen = ImageDataGenerator(rescale=1./255)\n",
    "test_datagen = ImageDataGenerator(rescale=1./255)\n",
    "\n",
    "train_generator = train_datagen.flow_from_directory(train_dir,target_size=(150,150),batch_size = 20,class_mode='binary')\n",
    "validation_generator = test_datagen.flow_from_directory(validation_dir,target_size=(150,150),batch_size=20,class_mode='binary')\n"
   ]
  },
  {
   "cell_type": "markdown",
   "metadata": {},
   "source": [
    "## 5. Fitting the model using Batch Generator:\n"
   ]
  },
  {
   "cell_type": "code",
   "execution_count": 6,
   "metadata": {},
   "outputs": [
    {
     "name": "stdout",
     "output_type": "stream",
     "text": [
      "Epoch 1/30\n",
      "100/100 [==============================] - 9s - loss: 0.6853 - acc: 0.5515 - val_loss: 0.6632 - val_acc: 0.6100\n",
      "Epoch 2/30\n",
      "100/100 [==============================] - 8s - loss: 0.6493 - acc: 0.6285 - val_loss: 0.6343 - val_acc: 0.6490\n",
      "Epoch 3/30\n",
      "100/100 [==============================] - 8s - loss: 0.6014 - acc: 0.6865 - val_loss: 0.6085 - val_acc: 0.6630\n",
      "Epoch 4/30\n",
      "100/100 [==============================] - 8s - loss: 0.5666 - acc: 0.7020 - val_loss: 0.5909 - val_acc: 0.6730\n",
      "Epoch 5/30\n",
      "100/100 [==============================] - 8s - loss: 0.5371 - acc: 0.7285 - val_loss: 0.6132 - val_acc: 0.6670\n",
      "Epoch 6/30\n",
      "100/100 [==============================] - 8s - loss: 0.5227 - acc: 0.7320 - val_loss: 0.5741 - val_acc: 0.6930\n",
      "Epoch 7/30\n",
      "100/100 [==============================] - 8s - loss: 0.4846 - acc: 0.7695 - val_loss: 0.5863 - val_acc: 0.6910\n",
      "Epoch 8/30\n",
      "100/100 [==============================] - 8s - loss: 0.4593 - acc: 0.7760 - val_loss: 0.5472 - val_acc: 0.7270\n",
      "Epoch 9/30\n",
      "100/100 [==============================] - 8s - loss: 0.4379 - acc: 0.7920 - val_loss: 0.5562 - val_acc: 0.7180\n",
      "Epoch 10/30\n",
      "100/100 [==============================] - 8s - loss: 0.4094 - acc: 0.8195 - val_loss: 0.5809 - val_acc: 0.7250\n",
      "Epoch 11/30\n",
      "100/100 [==============================] - 8s - loss: 0.3902 - acc: 0.8230 - val_loss: 0.5278 - val_acc: 0.7460\n",
      "Epoch 12/30\n",
      "100/100 [==============================] - 8s - loss: 0.3637 - acc: 0.8390 - val_loss: 0.6115 - val_acc: 0.6990\n",
      "Epoch 13/30\n",
      "100/100 [==============================] - 8s - loss: 0.3368 - acc: 0.8570 - val_loss: 0.5760 - val_acc: 0.7350\n",
      "Epoch 14/30\n",
      "100/100 [==============================] - 8s - loss: 0.3163 - acc: 0.8710 - val_loss: 0.5744 - val_acc: 0.7320\n",
      "Epoch 15/30\n",
      "100/100 [==============================] - 8s - loss: 0.2946 - acc: 0.8800 - val_loss: 0.5834 - val_acc: 0.7070\n",
      "Epoch 16/30\n",
      "100/100 [==============================] - 8s - loss: 0.2699 - acc: 0.9020 - val_loss: 0.7105 - val_acc: 0.7180\n",
      "Epoch 17/30\n",
      "100/100 [==============================] - 8s - loss: 0.2466 - acc: 0.9110 - val_loss: 0.5674 - val_acc: 0.7400\n",
      "Epoch 18/30\n",
      "100/100 [==============================] - 8s - loss: 0.2241 - acc: 0.9185 - val_loss: 0.6308 - val_acc: 0.7380\n",
      "Epoch 19/30\n",
      "100/100 [==============================] - 8s - loss: 0.2069 - acc: 0.9230 - val_loss: 0.7328 - val_acc: 0.7180\n",
      "Epoch 20/30\n",
      "100/100 [==============================] - 8s - loss: 0.1899 - acc: 0.9340 - val_loss: 0.6810 - val_acc: 0.7370\n",
      "Epoch 21/30\n",
      "100/100 [==============================] - 8s - loss: 0.1674 - acc: 0.9345 - val_loss: 0.6749 - val_acc: 0.7230\n",
      "Epoch 22/30\n",
      "100/100 [==============================] - 8s - loss: 0.1425 - acc: 0.9525 - val_loss: 0.8153 - val_acc: 0.7270\n",
      "Epoch 23/30\n",
      "100/100 [==============================] - 8s - loss: 0.1337 - acc: 0.9555 - val_loss: 0.7139 - val_acc: 0.7480\n",
      "Epoch 24/30\n",
      "100/100 [==============================] - 8s - loss: 0.1122 - acc: 0.9630 - val_loss: 0.7851 - val_acc: 0.7240\n",
      "Epoch 25/30\n",
      "100/100 [==============================] - 8s - loss: 0.1030 - acc: 0.9665 - val_loss: 0.8157 - val_acc: 0.7160\n",
      "Epoch 26/30\n",
      "100/100 [==============================] - 8s - loss: 0.0900 - acc: 0.9695 - val_loss: 0.8338 - val_acc: 0.7260\n",
      "Epoch 27/30\n",
      "100/100 [==============================] - 8s - loss: 0.0822 - acc: 0.9730 - val_loss: 0.7885 - val_acc: 0.7450\n",
      "Epoch 28/30\n",
      "100/100 [==============================] - 8s - loss: 0.0634 - acc: 0.9795 - val_loss: 0.7977 - val_acc: 0.7480\n",
      "Epoch 29/30\n",
      "100/100 [==============================] - 8s - loss: 0.0558 - acc: 0.9865 - val_loss: 0.9157 - val_acc: 0.7340\n",
      "Epoch 30/30\n",
      "100/100 [==============================] - 8s - loss: 0.0501 - acc: 0.9855 - val_loss: 1.0324 - val_acc: 0.7020\n"
     ]
    }
   ],
   "source": [
    "history = model.fit_generator(train_generator,steps_per_epoch=100,epochs=30,validation_data=validation_generator,validation_steps=50)\n"
   ]
  },
  {
   "cell_type": "markdown",
   "metadata": {},
   "source": [
    "## 6. Saving the model:"
   ]
  },
  {
   "cell_type": "code",
   "execution_count": 7,
   "metadata": {
    "collapsed": true
   },
   "outputs": [],
   "source": [
    "model.save('cats_n_dogs_small_1.h5')"
   ]
  },
  {
   "cell_type": "markdown",
   "metadata": {},
   "source": [
    "## 7. Plotting model's loss and accuracy on training and validation set:"
   ]
  },
  {
   "cell_type": "code",
   "execution_count": 8,
   "metadata": {},
   "outputs": [
    {
     "data": {
      "image/png": "[encoded data removed]",
      "text/plain": [
       "<matplotlib.figure.Figure at 0x7f1eddb1d1d0>"
      ]
     },
     "metadata": {},
     "output_type": "display_data"
    },
    {
     "data": {
      "image/png": "[encoded data removed]",
      "text/plain": [
       "<matplotlib.figure.Figure at 0x7f1edf85bf60>"
      ]
     },
     "metadata": {},
     "output_type": "display_data"
    }
   ],
   "source": [
    "acc = history.history['acc']\n",
    "val_acc = history.history['val_acc']\n",
    "loss = history.history['loss']\n",
    "val_loss = history.history['val_loss']\n",
    "\n",
    "epochs = range(1,len(acc) + 1)\n",
    "\n",
    "plt.plot(epochs,acc,'bo',label='Training Accuracy.')\n",
    "plt.plot(epochs,val_acc,'b',label='Validation Accuracy.')\n",
    "plt.title('Training and Validation Accuracy.')\n",
    "plt.legend()\n",
    "\n",
    "plt.figure()\n",
    "\n",
    "plt.plot(epochs,loss,'bo',label='Training Loss.')\n",
    "plt.plot(epochs,val_loss,'b',label='Validation Loss.')\n",
    "plt.title('Training and Validation Loss.')\n",
    "plt.legend()\n",
    "\n",
    "plt.show()\n"
   ]
  },
  {
   "cell_type": "markdown",
   "metadata": {},
   "source": [
    "## 8. Re-Building Model using Data-Augmentation Drop-Out technique for mitigating Over-fitting:"
   ]
  },
  {
   "cell_type": "code",
   "execution_count": 9,
   "metadata": {},
   "outputs": [
    {
     "name": "stdout",
     "output_type": "stream",
     "text": [
      "_________________________________________________________________\n",
      "Layer (type)                 Output Shape              Param #   \n",
      "=================================================================\n",
      "conv2d_5 (Conv2D)            (None, 148, 148, 32)      896       \n",
      "_________________________________________________________________\n",
      "max_pooling2d_5 (MaxPooling2 (None, 74, 74, 32)        0         \n",
      "_________________________________________________________________\n",
      "conv2d_6 (Conv2D)            (None, 72, 72, 64)        18496     \n",
      "_________________________________________________________________\n",
      "max_pooling2d_6 (MaxPooling2 (None, 36, 36, 64)        0         \n",
      "_________________________________________________________________\n",
      "conv2d_7 (Conv2D)            (None, 34, 34, 128)       73856     \n",
      "_________________________________________________________________\n",
      "max_pooling2d_7 (MaxPooling2 (None, 17, 17, 128)       0         \n",
      "_________________________________________________________________\n",
      "conv2d_8 (Conv2D)            (None, 15, 15, 128)       147584    \n",
      "_________________________________________________________________\n",
      "max_pooling2d_8 (MaxPooling2 (None, 7, 7, 128)         0         \n",
      "_________________________________________________________________\n",
      "flatten_2 (Flatten)          (None, 6272)              0         \n",
      "_________________________________________________________________\n",
      "dropout_1 (Dropout)          (None, 6272)              0         \n",
      "_________________________________________________________________\n",
      "dense_3 (Dense)              (None, 512)               3211776   \n",
      "_________________________________________________________________\n",
      "dense_4 (Dense)              (None, 1)                 513       \n",
      "=================================================================\n",
      "Total params: 3,453,121\n",
      "Trainable params: 3,453,121\n",
      "Non-trainable params: 0\n",
      "_________________________________________________________________\n"
     ]
    }
   ],
   "source": [
    "model_1 = models.Sequential()\n",
    "model_1.add(layers.Conv2D(32,(3,3),activation='relu',input_shape=(150,150,3)))\n",
    "model_1.add(layers.MaxPooling2D((2,2)))\n",
    "model_1.add(layers.Conv2D(64,(3,3),activation='relu'))\n",
    "model_1.add(layers.MaxPooling2D((2,2)))\n",
    "model_1.add(layers.Conv2D(128,(3,3),activation='relu'))\n",
    "model_1.add(layers.MaxPooling2D((2,2)))\n",
    "model_1.add(layers.Conv2D(128,(3,3),activation='relu'))\n",
    "model_1.add(layers.MaxPooling2D((2,2)))\n",
    "model_1.add(layers.Flatten())\n",
    "model_1.add(layers.Dropout(0.5))\n",
    "model_1.add(layers.Dense(512,activation='relu'))\n",
    "model_1.add(layers.Dense(1,activation='sigmoid'))\n",
    "\n",
    "model_1.summary()\n",
    "\n",
    "model_1.compile(loss='binary_crossentropy',optimizer = optimizers.RMSprop(lr=1e-4),metrics = ['acc'])\n"
   ]
  },
  {
   "cell_type": "markdown",
   "metadata": {},
   "source": [
    "## 9. Training the model using data-augmentation generator:"
   ]
  },
  {
   "cell_type": "code",
   "execution_count": 10,
   "metadata": {},
   "outputs": [
    {
     "name": "stdout",
     "output_type": "stream",
     "text": [
      "Found 2000 images belonging to 2 classes.\n",
      "Found 1000 images belonging to 2 classes.\n",
      "Epoch 1/100\n",
      "100/100 [==============================] - 25s - loss: 0.6925 - acc: 0.5209 - val_loss: 0.6814 - val_acc: 0.5197\n",
      "Epoch 2/100\n",
      "100/100 [==============================] - 23s - loss: 0.6740 - acc: 0.5772 - val_loss: 0.6542 - val_acc: 0.6108\n",
      "Epoch 3/100\n",
      "100/100 [==============================] - 23s - loss: 0.6701 - acc: 0.5897 - val_loss: 0.6444 - val_acc: 0.6244\n",
      "Epoch 4/100\n",
      "100/100 [==============================] - 23s - loss: 0.6487 - acc: 0.6166 - val_loss: 0.6391 - val_acc: 0.6121\n",
      "Epoch 5/100\n",
      "100/100 [==============================] - 23s - loss: 0.6320 - acc: 0.6331 - val_loss: 0.6040 - val_acc: 0.6643\n",
      "Epoch 6/100\n",
      "100/100 [==============================] - 23s - loss: 0.6088 - acc: 0.6625 - val_loss: 0.5849 - val_acc: 0.6843\n",
      "Epoch 7/100\n",
      "100/100 [==============================] - 24s - loss: 0.5994 - acc: 0.6678 - val_loss: 0.5769 - val_acc: 0.6985\n",
      "Epoch 8/100\n",
      "100/100 [==============================] - 23s - loss: 0.5927 - acc: 0.6737 - val_loss: 0.5658 - val_acc: 0.7049\n",
      "Epoch 9/100\n",
      "100/100 [==============================] - 23s - loss: 0.5782 - acc: 0.6888 - val_loss: 0.5658 - val_acc: 0.6836\n",
      "Epoch 10/100\n",
      "100/100 [==============================] - 23s - loss: 0.5705 - acc: 0.6978 - val_loss: 0.5502 - val_acc: 0.7151\n",
      "Epoch 11/100\n",
      "100/100 [==============================] - 24s - loss: 0.5684 - acc: 0.6972 - val_loss: 0.5334 - val_acc: 0.7313\n",
      "Epoch 12/100\n",
      "100/100 [==============================] - 23s - loss: 0.5654 - acc: 0.7044 - val_loss: 0.5319 - val_acc: 0.7345\n",
      "Epoch 13/100\n",
      "100/100 [==============================] - 23s - loss: 0.5626 - acc: 0.7056 - val_loss: 0.6022 - val_acc: 0.6631\n",
      "Epoch 14/100\n",
      "100/100 [==============================] - 23s - loss: 0.5555 - acc: 0.7131 - val_loss: 0.5310 - val_acc: 0.7242\n",
      "Epoch 15/100\n",
      "100/100 [==============================] - 23s - loss: 0.5510 - acc: 0.7097 - val_loss: 0.5804 - val_acc: 0.6751\n",
      "Epoch 16/100\n",
      "100/100 [==============================] - 23s - loss: 0.5288 - acc: 0.7341 - val_loss: 0.5204 - val_acc: 0.7455\n",
      "Epoch 17/100\n",
      "100/100 [==============================] - 23s - loss: 0.5411 - acc: 0.7134 - val_loss: 0.5085 - val_acc: 0.7481\n",
      "Epoch 18/100\n",
      "100/100 [==============================] - 23s - loss: 0.5255 - acc: 0.7281 - val_loss: 0.5322 - val_acc: 0.7360\n",
      "Epoch 19/100\n",
      "100/100 [==============================] - 23s - loss: 0.5239 - acc: 0.7359 - val_loss: 0.5264 - val_acc: 0.7320\n",
      "Epoch 20/100\n",
      "100/100 [==============================] - 23s - loss: 0.5204 - acc: 0.7438 - val_loss: 0.5183 - val_acc: 0.7259\n",
      "Epoch 21/100\n",
      "100/100 [==============================] - 23s - loss: 0.5293 - acc: 0.7375 - val_loss: 0.4967 - val_acc: 0.7603\n",
      "Epoch 22/100\n",
      "100/100 [==============================] - 23s - loss: 0.5168 - acc: 0.7394 - val_loss: 0.5057 - val_acc: 0.7545\n",
      "Epoch 23/100\n",
      "100/100 [==============================] - 23s - loss: 0.5133 - acc: 0.7497 - val_loss: 0.4836 - val_acc: 0.7659\n",
      "Epoch 24/100\n",
      "100/100 [==============================] - 23s - loss: 0.5004 - acc: 0.7428 - val_loss: 0.5130 - val_acc: 0.7474\n",
      "Epoch 25/100\n",
      "100/100 [==============================] - 23s - loss: 0.4966 - acc: 0.7637 - val_loss: 0.4858 - val_acc: 0.7741\n",
      "Epoch 26/100\n",
      "100/100 [==============================] - 23s - loss: 0.5012 - acc: 0.7494 - val_loss: 0.4788 - val_acc: 0.7713\n",
      "Epoch 27/100\n",
      "100/100 [==============================] - 23s - loss: 0.4940 - acc: 0.7609 - val_loss: 0.4885 - val_acc: 0.7700\n",
      "Epoch 28/100\n",
      "100/100 [==============================] - 23s - loss: 0.4940 - acc: 0.7575 - val_loss: 0.5097 - val_acc: 0.7544\n",
      "Epoch 29/100\n",
      "100/100 [==============================] - 23s - loss: 0.4868 - acc: 0.7609 - val_loss: 0.4579 - val_acc: 0.7848\n",
      "Epoch 30/100\n",
      "100/100 [==============================] - 23s - loss: 0.4829 - acc: 0.7666 - val_loss: 0.4749 - val_acc: 0.7773\n",
      "Epoch 31/100\n",
      "100/100 [==============================] - 23s - loss: 0.4857 - acc: 0.7597 - val_loss: 0.4833 - val_acc: 0.7713\n",
      "Epoch 32/100\n",
      "100/100 [==============================] - 23s - loss: 0.4772 - acc: 0.7678 - val_loss: 0.5086 - val_acc: 0.7525\n",
      "Epoch 33/100\n",
      "100/100 [==============================] - 23s - loss: 0.4811 - acc: 0.7609 - val_loss: 0.4525 - val_acc: 0.7836\n",
      "Epoch 34/100\n",
      "100/100 [==============================] - 23s - loss: 0.4669 - acc: 0.7762 - val_loss: 0.4941 - val_acc: 0.7706\n",
      "Epoch 35/100\n",
      "100/100 [==============================] - 23s - loss: 0.4677 - acc: 0.7784 - val_loss: 0.4408 - val_acc: 0.7976\n",
      "Epoch 36/100\n",
      "100/100 [==============================] - 24s - loss: 0.4793 - acc: 0.7681 - val_loss: 0.4676 - val_acc: 0.7809\n",
      "Epoch 37/100\n",
      "100/100 [==============================] - 23s - loss: 0.4567 - acc: 0.7781 - val_loss: 0.4533 - val_acc: 0.7893\n",
      "Epoch 38/100\n",
      "100/100 [==============================] - 23s - loss: 0.4562 - acc: 0.7731 - val_loss: 0.5119 - val_acc: 0.7494\n",
      "Epoch 39/100\n",
      "100/100 [==============================] - 23s - loss: 0.4629 - acc: 0.7806 - val_loss: 0.4522 - val_acc: 0.7964\n",
      "Epoch 40/100\n",
      "100/100 [==============================] - 23s - loss: 0.4461 - acc: 0.7869 - val_loss: 0.4389 - val_acc: 0.7982\n",
      "Epoch 41/100\n",
      "100/100 [==============================] - 23s - loss: 0.4570 - acc: 0.7803 - val_loss: 0.4330 - val_acc: 0.8041\n",
      "Epoch 42/100\n",
      "100/100 [==============================] - 23s - loss: 0.4501 - acc: 0.7916 - val_loss: 0.4377 - val_acc: 0.7887\n",
      "Epoch 43/100\n",
      "100/100 [==============================] - 23s - loss: 0.4405 - acc: 0.7903 - val_loss: 0.4515 - val_acc: 0.7906\n",
      "Epoch 44/100\n",
      "100/100 [==============================] - 23s - loss: 0.4520 - acc: 0.7800 - val_loss: 0.4362 - val_acc: 0.8125\n",
      "Epoch 45/100\n",
      "100/100 [==============================] - 23s - loss: 0.4374 - acc: 0.7978 - val_loss: 0.4300 - val_acc: 0.7944\n",
      "Epoch 46/100\n",
      "100/100 [==============================] - 23s - loss: 0.4418 - acc: 0.8006 - val_loss: 0.4101 - val_acc: 0.8183\n",
      "Epoch 47/100\n",
      "100/100 [==============================] - 23s - loss: 0.4316 - acc: 0.7966 - val_loss: 0.4299 - val_acc: 0.7976\n",
      "Epoch 48/100\n",
      "100/100 [==============================] - 23s - loss: 0.4313 - acc: 0.7912 - val_loss: 0.4141 - val_acc: 0.8084\n",
      "Epoch 49/100\n",
      "100/100 [==============================] - 23s - loss: 0.4310 - acc: 0.7941 - val_loss: 0.4428 - val_acc: 0.7938\n",
      "Epoch 50/100\n",
      "100/100 [==============================] - 23s - loss: 0.4228 - acc: 0.8041 - val_loss: 0.4245 - val_acc: 0.8173\n",
      "Epoch 51/100\n",
      "100/100 [==============================] - 23s - loss: 0.4247 - acc: 0.8034 - val_loss: 0.4462 - val_acc: 0.7957\n",
      "Epoch 52/100\n",
      "100/100 [==============================] - 23s - loss: 0.4191 - acc: 0.8106 - val_loss: 0.4353 - val_acc: 0.8058\n",
      "Epoch 53/100\n",
      "100/100 [==============================] - 23s - loss: 0.4311 - acc: 0.7962 - val_loss: 0.4110 - val_acc: 0.8173\n",
      "Epoch 54/100\n",
      "100/100 [==============================] - 23s - loss: 0.4091 - acc: 0.8106 - val_loss: 0.4669 - val_acc: 0.7945\n",
      "Epoch 55/100\n",
      "100/100 [==============================] - 23s - loss: 0.4166 - acc: 0.8100 - val_loss: 0.5063 - val_acc: 0.7627\n",
      "Epoch 56/100\n",
      "100/100 [==============================] - 23s - loss: 0.4213 - acc: 0.7975 - val_loss: 0.4014 - val_acc: 0.8164\n",
      "Epoch 57/100\n",
      "100/100 [==============================] - 23s - loss: 0.4061 - acc: 0.8088 - val_loss: 0.4461 - val_acc: 0.8001\n",
      "Epoch 58/100\n",
      "100/100 [==============================] - 23s - loss: 0.4140 - acc: 0.8047 - val_loss: 0.3961 - val_acc: 0.8287\n",
      "Epoch 59/100\n",
      "100/100 [==============================] - 23s - loss: 0.4096 - acc: 0.8163 - val_loss: 0.4082 - val_acc: 0.8157\n",
      "Epoch 60/100\n",
      "100/100 [==============================] - 23s - loss: 0.3962 - acc: 0.8134 - val_loss: 0.4332 - val_acc: 0.8071\n",
      "Epoch 61/100\n",
      "100/100 [==============================] - 23s - loss: 0.4062 - acc: 0.8066 - val_loss: 0.4146 - val_acc: 0.8247\n",
      "Epoch 62/100\n",
      "100/100 [==============================] - 23s - loss: 0.4092 - acc: 0.8112 - val_loss: 0.3899 - val_acc: 0.8280\n",
      "Epoch 63/100\n",
      "100/100 [==============================] - 23s - loss: 0.4044 - acc: 0.8166 - val_loss: 0.4832 - val_acc: 0.7766\n",
      "Epoch 64/100\n",
      "100/100 [==============================] - 23s - loss: 0.3900 - acc: 0.8203 - val_loss: 0.4655 - val_acc: 0.7848\n",
      "Epoch 65/100\n",
      "100/100 [==============================] - 23s - loss: 0.3949 - acc: 0.8194 - val_loss: 0.4144 - val_acc: 0.8261\n",
      "Epoch 66/100\n",
      "100/100 [==============================] - 23s - loss: 0.3894 - acc: 0.8291 - val_loss: 0.4024 - val_acc: 0.8183\n",
      "Epoch 67/100\n",
      "100/100 [==============================] - 23s - loss: 0.3976 - acc: 0.8194 - val_loss: 0.4076 - val_acc: 0.8135\n",
      "Epoch 68/100\n",
      "100/100 [==============================] - 23s - loss: 0.3814 - acc: 0.8319 - val_loss: 0.4236 - val_acc: 0.8058\n",
      "Epoch 69/100\n",
      "100/100 [==============================] - 23s - loss: 0.3728 - acc: 0.8369 - val_loss: 0.4816 - val_acc: 0.7803\n",
      "Epoch 70/100\n",
      "100/100 [==============================] - 23s - loss: 0.3865 - acc: 0.8169 - val_loss: 0.4350 - val_acc: 0.8027\n",
      "Epoch 71/100\n",
      "100/100 [==============================] - 23s - loss: 0.3664 - acc: 0.8303 - val_loss: 0.3819 - val_acc: 0.8396\n",
      "Epoch 72/100\n",
      "100/100 [==============================] - 23s - loss: 0.3816 - acc: 0.8322 - val_loss: 0.4209 - val_acc: 0.8230\n",
      "Epoch 73/100\n",
      "100/100 [==============================] - 23s - loss: 0.3820 - acc: 0.8259 - val_loss: 0.4922 - val_acc: 0.7963\n",
      "Epoch 74/100\n",
      "100/100 [==============================] - 23s - loss: 0.3782 - acc: 0.8275 - val_loss: 0.4162 - val_acc: 0.8235 ETA: 2s - loss: 0.37\n",
      "Epoch 75/100\n",
      "100/100 [==============================] - 23s - loss: 0.3678 - acc: 0.8366 - val_loss: 0.4530 - val_acc: 0.8052\n",
      "Epoch 76/100\n",
      "100/100 [==============================] - 23s - loss: 0.3703 - acc: 0.8337 - val_loss: 0.4177 - val_acc: 0.8267\n",
      "Epoch 77/100\n",
      "100/100 [==============================] - 23s - loss: 0.3706 - acc: 0.8356 - val_loss: 0.3787 - val_acc: 0.8433\n",
      "Epoch 78/100\n",
      "100/100 [==============================] - 23s - loss: 0.3831 - acc: 0.8281 - val_loss: 0.3716 - val_acc: 0.8357\n",
      "Epoch 79/100\n",
      "100/100 [==============================] - 23s - loss: 0.3579 - acc: 0.8369 - val_loss: 0.3917 - val_acc: 0.8247\n",
      "Epoch 80/100\n",
      "100/100 [==============================] - 23s - loss: 0.3680 - acc: 0.8400 - val_loss: 0.3798 - val_acc: 0.8319\n",
      "Epoch 81/100\n",
      "100/100 [==============================] - 23s - loss: 0.3650 - acc: 0.8294 - val_loss: 0.3902 - val_acc: 0.8305\n",
      "Epoch 82/100\n",
      "100/100 [==============================] - 23s - loss: 0.3656 - acc: 0.8366 - val_loss: 0.4644 - val_acc: 0.8020\n",
      "Epoch 83/100\n",
      "100/100 [==============================] - 23s - loss: 0.3575 - acc: 0.8428 - val_loss: 0.3874 - val_acc: 0.8350\n",
      "Epoch 84/100\n",
      "100/100 [==============================] - 24s - loss: 0.3704 - acc: 0.8350 - val_loss: 0.3783 - val_acc: 0.8299\n",
      "Epoch 85/100\n",
      "100/100 [==============================] - 23s - loss: 0.3426 - acc: 0.8441 - val_loss: 0.3690 - val_acc: 0.8395\n",
      "Epoch 86/100\n",
      "100/100 [==============================] - 23s - loss: 0.3545 - acc: 0.8384 - val_loss: 0.3794 - val_acc: 0.8473\n",
      "Epoch 87/100\n",
      "100/100 [==============================] - 23s - loss: 0.3528 - acc: 0.8416 - val_loss: 0.3717 - val_acc: 0.8376\n",
      "Epoch 88/100\n",
      "100/100 [==============================] - 23s - loss: 0.3445 - acc: 0.8475 - val_loss: 0.3517 - val_acc: 0.8509\n",
      "Epoch 89/100\n",
      "100/100 [==============================] - 23s - loss: 0.3539 - acc: 0.8438 - val_loss: 0.4131 - val_acc: 0.8351\n",
      "Epoch 90/100\n",
      "100/100 [==============================] - 23s - loss: 0.3481 - acc: 0.8500 - val_loss: 0.3611 - val_acc: 0.8484\n",
      "Epoch 91/100\n",
      "100/100 [==============================] - 23s - loss: 0.3509 - acc: 0.8416 - val_loss: 0.3788 - val_acc: 0.8273\n",
      "Epoch 92/100\n",
      "100/100 [==============================] - 23s - loss: 0.3355 - acc: 0.8559 - val_loss: 0.3940 - val_acc: 0.8268\n",
      "Epoch 93/100\n",
      "100/100 [==============================] - 23s - loss: 0.3380 - acc: 0.8562 - val_loss: 0.4092 - val_acc: 0.8338\n",
      "Epoch 94/100\n",
      "100/100 [==============================] - 23s - loss: 0.3323 - acc: 0.8550 - val_loss: 0.4363 - val_acc: 0.8177\n",
      "Epoch 95/100\n",
      "100/100 [==============================] - 23s - loss: 0.3462 - acc: 0.8456 - val_loss: 0.4539 - val_acc: 0.8052\n",
      "Epoch 96/100\n",
      "100/100 [==============================] - 23s - loss: 0.3343 - acc: 0.8556 - val_loss: 0.3743 - val_acc: 0.8466\n",
      "Epoch 97/100\n",
      "100/100 [==============================] - 23s - loss: 0.3574 - acc: 0.8397 - val_loss: 0.3546 - val_acc: 0.8452\n",
      "Epoch 98/100\n",
      "100/100 [==============================] - 23s - loss: 0.3327 - acc: 0.8562 - val_loss: 0.3899 - val_acc: 0.8369\n",
      "Epoch 99/100\n",
      "100/100 [==============================] - 23s - loss: 0.3336 - acc: 0.8466 - val_loss: 0.3948 - val_acc: 0.8338\n",
      "Epoch 100/100\n",
      "100/100 [==============================] - 23s - loss: 0.3297 - acc: 0.8525 - val_loss: 0.4826 - val_acc: 0.8046\n"
     ]
    }
   ],
   "source": [
    "train_datagen_1 = ImageDataGenerator(rescale=1./255,rotation_range=40,width_shift_range=0.2,height_shift_range=0.2,shear_range=0.2,zoom_range=0.2,horizontal_flip=True)\n",
    "test_datagen_1 = ImageDataGenerator(rescale=1./255)\n",
    "train_generator_1 = train_datagen_1.flow_from_directory(train_dir,target_size=(150,150),batch_size=32,class_mode = 'binary')\n",
    "validation_generator_1 = test_datagen_1.flow_from_directory(validation_dir,target_size=(150,150),batch_size=32,class_mode='binary')\n",
    "history_1 = model_1.fit_generator(train_generator_1,steps_per_epoch=100,epochs=100,validation_data=validation_generator_1,validation_steps=50)\n"
   ]
  },
  {
   "cell_type": "code",
   "execution_count": 2,
   "metadata": {},
   "outputs": [
    {
     "ename": "NameError",
     "evalue": "name 'history_1' is not defined",
     "output_type": "error",
     "traceback": [
      "\u001b[1;31m---------------------------------------------------------------------------\u001b[0m",
      "\u001b[1;31mNameError\u001b[0m                                 Traceback (most recent call last)",
      "\u001b[1;32m<ipython-input-2-bc3598e0b577>\u001b[0m in \u001b[0;36m<module>\u001b[1;34m()\u001b[0m\n\u001b[1;32m----> 1\u001b[1;33m \u001b[0macc_1\u001b[0m \u001b[1;33m=\u001b[0m \u001b[0mhistory_1\u001b[0m\u001b[1;33m.\u001b[0m\u001b[0mhistory\u001b[0m\u001b[1;33m[\u001b[0m\u001b[1;34m'acc'\u001b[0m\u001b[1;33m]\u001b[0m\u001b[1;33m\u001b[0m\u001b[0m\n\u001b[0m\u001b[0;32m      2\u001b[0m \u001b[0mval_acc_1\u001b[0m \u001b[1;33m=\u001b[0m \u001b[0mhistory_1\u001b[0m\u001b[1;33m.\u001b[0m\u001b[0mhistory\u001b[0m\u001b[1;33m[\u001b[0m\u001b[1;34m'val_acc'\u001b[0m\u001b[1;33m]\u001b[0m\u001b[1;33m\u001b[0m\u001b[0m\n\u001b[0;32m      3\u001b[0m \u001b[0mloss_1\u001b[0m \u001b[1;33m=\u001b[0m \u001b[0mhistory_1\u001b[0m\u001b[1;33m.\u001b[0m\u001b[0mhistory\u001b[0m\u001b[1;33m[\u001b[0m\u001b[1;34m'loss'\u001b[0m\u001b[1;33m]\u001b[0m\u001b[1;33m\u001b[0m\u001b[0m\n\u001b[0;32m      4\u001b[0m \u001b[0mval_loss_1\u001b[0m \u001b[1;33m=\u001b[0m \u001b[0mhistory_1\u001b[0m\u001b[1;33m.\u001b[0m\u001b[0mhistory\u001b[0m\u001b[1;33m[\u001b[0m\u001b[1;34m'val_loss'\u001b[0m\u001b[1;33m]\u001b[0m\u001b[1;33m\u001b[0m\u001b[0m\n\u001b[0;32m      5\u001b[0m \u001b[1;33m\u001b[0m\u001b[0m\n",
      "\u001b[1;31mNameError\u001b[0m: name 'history_1' is not defined"
     ]
    }
   ],
   "source": [
    "acc_1 = history_1.history['acc']\n",
    "val_acc_1 = history_1.history['val_acc']\n",
    "loss_1 = history_1.history['loss']\n",
    "val_loss_1 = history_1.history['val_loss']\n",
    "\n",
    "epochs_1 = range(1,len(acc_1) + 1)\n",
    "\n",
    "plt.plot(epochs_1,acc_1,'bo',label='Training Accuracy.')\n",
    "plt.plot(epochs_1,val_acc_1,'b',label='Validation Accuracy.')\n",
    "plt.title('Training and Validation Accuracy.')\n",
    "plt.legend()\n",
    "\n",
    "plt.figure()\n",
    "\n",
    "plt.plot(epochs_1,loss_1,'bo',label='Training Loss.')\n",
    "plt.plot(epochs_1,val_loss_1,'b',label='Validation Loss.')\n",
    "plt.title('Training and Validation Loss.')\n",
    "plt.legend()\n",
    "\n",
    "plt.show()"
   ]
  },
  {
   "cell_type": "code",
   "execution_count": null,
   "metadata": {
    "collapsed": true
   },
   "outputs": [],
   "source": []
  }
 ],
 "metadata": {
  "kernelspec": {
   "display_name": "Python 3",
   "language": "python",
   "name": "python3"
  },
  "language_info": {
   "codemirror_mode": {
    "name": "ipython",
    "version": 3
   },
   "file_extension": ".py",
   "mimetype": "text/x-python",
   "name": "python",
   "nbconvert_exporter": "python",
   "pygments_lexer": "ipython3",
   "version": "3.6.1"
  }
 },
 "nbformat": 4,
 "nbformat_minor": 2
}
